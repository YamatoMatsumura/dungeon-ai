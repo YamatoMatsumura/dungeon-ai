{
 "cells": [
  {
   "cell_type": "markdown",
   "id": "f2c8e7b1",
   "metadata": {},
   "source": [
    "# Setup"
   ]
  },
  {
   "cell_type": "code",
   "execution_count": 1,
   "id": "3603acc0",
   "metadata": {},
   "outputs": [],
   "source": [
    "import mss\n",
    "import numpy as np\n",
    "import cv2\n",
    "import matplotlib.pyplot as plt\n",
    "\n",
    "import time  # to delay screenshot"
   ]
  },
  {
   "cell_type": "markdown",
   "id": "954319fd",
   "metadata": {},
   "source": [
    "# Fetch Screenshot"
   ]
  },
  {
   "cell_type": "code",
   "execution_count": 2,
   "id": "829d5ee1",
   "metadata": {},
   "outputs": [],
   "source": [
    "# Grab screenshot\n",
    "time.sleep(2)\n",
    "with mss.mss() as sct:\n",
    "    # Define region for minimap\n",
    "    region = {\"top\": 0, \"left\": 2027, \"width\": 531, \"height\": 545}\n",
    "    screenshot = np.array(sct.grab(region))\n",
    "\n",
    "    # Debug: Getting minimap pixel region\n",
    "    # cv2.imshow(\"minimap\", cv2.cvtColor(screenshot, cv2.COLOR_BGRA2BGR))\n",
    "    # cv2.waitKey(0)"
   ]
  },
  {
   "cell_type": "markdown",
   "id": "5ab5bd2c",
   "metadata": {},
   "source": [
    "# Color Masks"
   ]
  },
  {
   "cell_type": "code",
   "execution_count": 6,
   "id": "6043ecdf",
   "metadata": {},
   "outputs": [
    {
     "data": {
      "text/plain": [
       "-1"
      ]
     },
     "execution_count": 6,
     "metadata": {},
     "output_type": "execute_result"
    }
   ],
   "source": [
    "hsv_map = cv2.cvtColor(screenshot, cv2.COLOR_BGR2HSV)\n",
    "\n",
    "# Debug: Getting HSV for mask\n",
    "# plt.imshow(hsv_map, cmap='tab20')\n",
    "# plt.show()\n",
    "\n",
    "path_hsv = np.array([12, 98, 120])\n",
    "path_mask = cv2.inRange(hsv_map, path_hsv, path_hsv)\n",
    "\n",
    "spawn_hsv = np.array([16, 81, 163])\n",
    "spawn_mask = cv2.inRange(hsv_map, spawn_hsv, spawn_hsv)\n",
    "\n",
    "combined_mask = np.logical_or(path_mask, spawn_mask)\n",
    "cv2.imshow(\"combined\", (combined_mask.astype(np.uint8)) * 255)\n",
    "cv2.waitKey(0)\n"
   ]
  }
 ],
 "metadata": {
  "kernelspec": {
   "display_name": "venv",
   "language": "python",
   "name": "python3"
  },
  "language_info": {
   "codemirror_mode": {
    "name": "ipython",
    "version": 3
   },
   "file_extension": ".py",
   "mimetype": "text/x-python",
   "name": "python",
   "nbconvert_exporter": "python",
   "pygments_lexer": "ipython3",
   "version": "3.11.4"
  }
 },
 "nbformat": 4,
 "nbformat_minor": 5
}
