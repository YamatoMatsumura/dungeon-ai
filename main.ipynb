{
 "cells": [
  {
   "cell_type": "markdown",
   "id": "f2c8e7b1",
   "metadata": {},
   "source": [
    "# Setup"
   ]
  },
  {
   "cell_type": "code",
   "execution_count": null,
   "id": "3603acc0",
   "metadata": {},
   "outputs": [],
   "source": [
    "import mss\n",
    "import numpy as np\n",
    "import cv2\n",
    "\n",
    "import time  # to delay screenshot"
   ]
  },
  {
   "cell_type": "markdown",
   "id": "954319fd",
   "metadata": {},
   "source": [
    "# Fetch Screenshot"
   ]
  },
  {
   "cell_type": "code",
   "execution_count": null,
   "id": "829d5ee1",
   "metadata": {},
   "outputs": [],
   "source": [
    "# Grab screenshot\n",
    "time.sleep(2)\n",
    "with mss.mss() as sct:\n",
    "    # Define region for minimap\n",
    "    region = {\"top\": 0, \"left\": 2027, \"width\": 531, \"height\": 545}\n",
    "    screenshot = np.array(sct.grab(region))"
   ]
  },
  {
   "cell_type": "markdown",
   "id": "5ab5bd2c",
   "metadata": {},
   "source": [
    "# Color Masks"
   ]
  },
  {
   "cell_type": "code",
   "execution_count": null,
   "id": "6043ecdf",
   "metadata": {},
   "outputs": [],
   "source": [
    "hsv_map = cv2.cvtColor(screenshot, cv2.COLOR_BGR2HSV)\n",
    "path_hsv = np.array([12, 98, 120])\n",
    "path_mask = cv2.inRange(hsv_map, path_hsv, path_hsv)\n",
    "cv2.imshow(\"path mask\", path_mask)\n",
    "cv2.waitKey(0)"
   ]
  }
 ],
 "metadata": {
  "kernelspec": {
   "display_name": "venv",
   "language": "python",
   "name": "python3"
  },
  "language_info": {
   "name": "python",
   "version": "3.11.4"
  }
 },
 "nbformat": 4,
 "nbformat_minor": 5
}
