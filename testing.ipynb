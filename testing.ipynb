{
 "cells": [
  {
   "cell_type": "markdown",
   "id": "f2c8e7b1",
   "metadata": {},
   "source": [
    "# Setup"
   ]
  },
  {
   "cell_type": "code",
   "execution_count": null,
   "id": "3603acc0",
   "metadata": {},
   "outputs": [],
   "source": [
    "import mss\n",
    "import numpy as np\n",
    "import cv2\n",
    "import pydirectinput\n",
    "import matplotlib.pyplot as plt\n",
    "\n",
    "import time  # to delay screenshot\n",
    "\n",
    "import color_mask as mask\n",
    "import pathfinding"
   ]
  },
  {
   "cell_type": "markdown",
   "id": "954319fd",
   "metadata": {},
   "source": [
    "# Fetch Screenshot"
   ]
  },
  {
   "cell_type": "code",
   "execution_count": 89,
   "id": "829d5ee1",
   "metadata": {},
   "outputs": [],
   "source": [
    "# Grab screenshot\n",
    "time.sleep(2)\n",
    "with mss.mss() as sct:\n",
    "\n",
    "    # get minimap screenshot\n",
    "    minimap_region = {\"top\": 0, \"left\": 2027, \"width\": 531, \"height\": 545}\n",
    "    minimap_ss = np.array(sct.grab(minimap_region))\n",
    "\n",
    "    # get boss direction screenshot\n",
    "    boss_region = {\"top\": 0, \"left\": 0, \"width\": 2025, \"height\": 1600}\n",
    "    boss_ss = np.array(sct.grab(boss_region))\n",
    "\n",
    "\n",
    "    # # Debug: Getting minimap pixel region\n",
    "    # cv2.imshow(\"minimap\", cv2.cvtColor(boss_ss, cv2.COLOR_BGRA2BGR))\n",
    "    # cv2.waitKey(0)"
   ]
  },
  {
   "cell_type": "markdown",
   "id": "5ab5bd2c",
   "metadata": {},
   "source": [
    "# Color Masks"
   ]
  },
  {
   "cell_type": "markdown",
   "id": "05ccfd46",
   "metadata": {},
   "source": [
    "## Mask Minimap"
   ]
  },
  {
   "cell_type": "code",
   "execution_count": null,
   "id": "08424a08",
   "metadata": {},
   "outputs": [],
   "source": [
    "def mask_minimap(minimap_ss):\n",
    "    hsv_map = cv2.cvtColor(minimap_ss, cv2.COLOR_BGR2HSV)\n",
    "\n",
    "    # # Debug: Getting HSV for mask\n",
    "    # plt.imshow(hsv_map, cmap='tab20')\n",
    "    # plt.show()\n",
    "\n",
    "    obstacle_hsvs = {\n",
    "        \"rocks\": np.array([15, 168, 141]),\n",
    "        \"deep_water\": np.array([108, 184, 130]),\n",
    "        \"spawn_trees\": np.array([53, 129, 193]),\n",
    "        \"unexplored\": np.array([0, 0, 0]),\n",
    "        \"walls\": np.array([17, 114, 170])\n",
    "    }\n",
    "\n",
    "    combined_obstacles = np.zeros(hsv_map.shape[:2], dtype=np.uint8)\n",
    "\n",
    "    obstacle_masks = {}\n",
    "    for name, hsv in obstacle_hsvs.items():\n",
    "        mask = cv2.inRange(hsv_map, hsv, hsv)\n",
    "        obstacle_masks[name] = mask\n",
    "        combined_obstacles = cv2.bitwise_or(combined_obstacles, mask)\n",
    "\n",
    "    # cv2.imshow(\"Combined Obstacles\", combined_obstacles)\n",
    "    # cv2.waitKey(0)\n",
    "\n",
    "    walkable_grid = combined_obstacles == 0  # true/1 = walkable, false/0 = obstacle\n",
    "\n",
    "    return walkable_grid"
   ]
  },
  {
   "cell_type": "markdown",
   "id": "2cd8deb1",
   "metadata": {},
   "source": [
    "## Get Boss Heading"
   ]
  },
  {
   "cell_type": "code",
   "execution_count": null,
   "id": "2f916e06",
   "metadata": {},
   "outputs": [],
   "source": [
    "def get_boss_heading(boss_ss):\n",
    "    hsv_map = cv2.cvtColor(boss_ss, cv2.COLOR_BGR2HSV)\n",
    "    height, width = hsv_map.shape[:2]\n",
    "    player = [width // 2, height // 2]\n",
    "\n",
    "    hsv_lower = np.array([4, 150, 150])\n",
    "    hsv_upper = np.array([7, 250, 250])\n",
    "    mask = cv2.inRange(hsv_map, hsv_lower, hsv_upper)\n",
    "\n",
    "    # cv2.imshow(\"mask\", mask)\n",
    "    # cv2.waitKey(0)\n",
    "\n",
    "    # Get moments for image\n",
    "    M = cv2.moments(mask, binaryImage = True)\n",
    "\n",
    "    if M[\"m00\"] > 0:\n",
    "        cx = M[\"m10\"] / M[\"m00\"]\n",
    "        cy = M[\"m01\"] / M[\"m00\"]\n",
    "        average_point = np.array([cx, cy])\n",
    "\n",
    "        heading_vec = average_point - player\n",
    "        heading_vec = heading_vec / np.linalg.norm(heading_vec)\n",
    "    else:\n",
    "        heading_vec = None\n",
    "\n",
    "    # flip since need it in y,x (row, col)\n",
    "    heading_vec = heading_vec[::-1]\n",
    "\n",
    "    return heading_vec"
   ]
  },
  {
   "cell_type": "markdown",
   "id": "c19ca424",
   "metadata": {},
   "source": [
    "## Get Room Heading"
   ]
  },
  {
   "cell_type": "code",
   "execution_count": null,
   "id": "88f50a58",
   "metadata": {},
   "outputs": [],
   "source": [
    "\n",
    "def get_room_headings(minimap_ss):\n",
    "    hsv_map = cv2.cvtColor(minimap_ss, cv2.COLOR_BGR2HSV)\n",
    "    height, width = minimap_ss.shape[:2]\n",
    "    player = [width // 2, height // 2]\n",
    "\n",
    "    room_hsv = np.array([12, 98, 120])\n",
    "    mask = cv2.inRange(hsv_map, room_hsv, room_hsv)\n",
    "\n",
    "    num_labels, labels = cv2.connectedComponents(mask)\n",
    "\n",
    "    vectors = []\n",
    "    for i in range(1, num_labels):  # 1 is background label\n",
    "        ys, xs = np.where(labels == i)\n",
    "        cx = xs.mean()\n",
    "        cy = ys.mean()\n",
    "\n",
    "        # normalize vector\n",
    "        room = np.array([cx, cy])\n",
    "        room_vec = room - player\n",
    "        room_vec = room_vec / np.linalg.norm(room_vec)\n",
    "\n",
    "        vectors.append(room_vec)\n",
    "    \n",
    "    return vectors"
   ]
  },
  {
   "cell_type": "code",
   "execution_count": null,
   "id": "34f74f1b",
   "metadata": {},
   "outputs": [],
   "source": [
    "# get boolean grid for walkable spaces\n",
    "walkable_grid = mask.mask_minimap(minimap_ss)\n",
    "\n",
    "# get heading for boss\n",
    "boss_heading = mask.get_boss_heading(boss_ss)\n",
    "\n",
    "# get headings for each room (helps push bot take paths through rooms and not greedy dash to boss)\n",
    "room_headings = mask.get_room_headings(minimap_ss)"
   ]
  },
  {
   "cell_type": "markdown",
   "id": "388079b5",
   "metadata": {},
   "source": [
    "# Shrink down Map"
   ]
  },
  {
   "cell_type": "code",
   "execution_count": 74,
   "id": "0b1ba269",
   "metadata": {},
   "outputs": [],
   "source": [
    "def downsample_mask(mask, block_size=4):\n",
    "    \"\"\"\n",
    "    mask: boolean array of shape (H, W)\n",
    "    block_size: number of pixels per grid cell\n",
    "    \"\"\"\n",
    "\n",
    "    H, W = mask.shape\n",
    "    new_H = H // block_size\n",
    "    new_W = W // block_size\n",
    "\n",
    "    # Initialize smaller grid\n",
    "    grid = np.zeros((new_H, new_W), dtype=bool)\n",
    "\n",
    "    for i in range(new_H):\n",
    "        for j in range(new_W):\n",
    "            block = mask[i*block_size:(i+1)*block_size, j*block_size:(j+1)*block_size]\n",
    "            grid[i, j] = np.all(block)  # True if all pixels are walkable\n",
    "\n",
    "    return grid\n",
    "\n",
    "def resize_print(img, scale):\n",
    "    return cv2.resize(img, (img.shape[1]*scale, img.shape[0]*scale), interpolation=cv2.INTER_NEAREST)"
   ]
  },
  {
   "cell_type": "code",
   "execution_count": null,
   "id": "92acfab4",
   "metadata": {},
   "outputs": [
    {
     "name": "stdout",
     "output_type": "stream",
     "text": [
      "(109, 106)\n"
     ]
    },
    {
     "data": {
      "text/plain": [
       "-1"
      ]
     },
     "execution_count": 92,
     "metadata": {},
     "output_type": "execute_result"
    }
   ],
   "source": [
    "# shrink map (issue with keypresses can only be so quick, smaller map = less path points returned = more accurate for key press to grid tile)\n",
    "shrink_size = 5\n",
    "walkable_grid_small = mask.downsample_mask(walkable_grid, shrink_size)\n",
    "\n",
    "# # DEBUG: display smaller map to double check resolution after shrinking\n",
    "# img = (walkable_grid_small.astype(np.uint8)) * 255\n",
    "# cv2.imshow(\"map\", mask.resize_print(img, shrink_size))\n",
    "# cv2.waitKey(0)\n"
   ]
  },
  {
   "cell_type": "markdown",
   "id": "3fb6af85",
   "metadata": {},
   "source": [
    "# Pathfinding"
   ]
  },
  {
   "cell_type": "code",
   "execution_count": null,
   "id": "c0284434",
   "metadata": {},
   "outputs": [],
   "source": [
    "import heapq\n",
    "\n",
    "def direction_guided_search(grid, start, boss_heading, room_headings, max_steps=500):\n",
    "    \"\"\"\n",
    "    grid: 2D numpy array, 0 = walkable, 1 = obstacle\n",
    "    start: (row, col)\n",
    "    __heading: (dx, dy) preferred direction\n",
    "    max_steps: cutoff to avoid infinite loops\n",
    "    \"\"\"\n",
    "\n",
    "\n",
    "    rows, cols = grid.shape\n",
    "    visited = set()\n",
    "    came_from = {}\n",
    "\n",
    "    # priority queue entries: (priority, (r, c))\n",
    "    frontier = []\n",
    "    heapq.heappush(frontier, (0, start))\n",
    "\n",
    "    steps = 0\n",
    "    while frontier and steps <= max_steps:\n",
    "        _, (r, c) = heapq.heappop(frontier)\n",
    "        steps += 1\n",
    "\n",
    "        if (r, c) in visited:\n",
    "            continue\n",
    "        visited.add((r, c))\n",
    "\n",
    "        # STOP CONDITION\n",
    "        if steps > 200:\n",
    "            # reconstruct path\n",
    "            path = []\n",
    "            cur = (r, c)\n",
    "            while cur in came_from:\n",
    "                path.append(cur)\n",
    "                cur = came_from[cur]\n",
    "            path.append(start)\n",
    "            path.reverse()\n",
    "            return path\n",
    "\n",
    "        # explore neighbors\n",
    "        for dr, dc in [(-1,0),(1,0),(0,-1),(0,1)]:\n",
    "            nr, nc = r + dr, c + dc\n",
    "            if 0 <= nr < rows and 0 <= nc < cols and grid[nr, nc] == 1:\n",
    "                if (nr, nc) not in visited:\n",
    "                    came_from[(nr, nc)] = (r, c)\n",
    "\n",
    "                    # bias = alignment with heading\n",
    "                    vec_raw = np.array([nr - start[0], nc - start[1]])\n",
    "                    vec_norm = vec_raw / np.linalg.norm(vec_raw)  # normalize vec so dot product doesn't get influenced by direction\n",
    "                    boss_dot = np.dot(vec_norm, boss_heading)  # bigger = better alignment\n",
    "\n",
    "                    # get dot product for each room headings\n",
    "                    room_dots = []\n",
    "                    for room in room_headings:\n",
    "                        room_dots.append(np.dot(vec_norm, room))\n",
    "\n",
    "                    dist = np.linalg.norm(vec_raw)\n",
    "                    priority = dist - 0.1*boss_dot - max(room_dots)  # weight toward heading\n",
    "                    heapq.heappush(frontier, (priority, (nr, nc)))\n",
    "    \n",
    "    return None  # no path found\n",
    "    "
   ]
  },
  {
   "cell_type": "code",
   "execution_count": null,
   "id": "fcd582cc",
   "metadata": {},
   "outputs": [
    {
     "name": "stdout",
     "output_type": "stream",
     "text": [
      "[(54, 53), (54, 52), (53, 52), (52, 52), (52, 51), (52, 50)]\n"
     ]
    }
   ],
   "source": [
    "# get desired path\n",
    "start_row = walkable_grid_small.shape[0] // 2\n",
    "start_col = walkable_grid_small.shape[1] // 2\n",
    "path = pathfinding.direction_guided_search(\n",
    "    walkable_grid_small, \n",
    "    start=(start_row, start_col), \n",
    "    boss_heading=boss_heading, \n",
    "    room_headings=room_headings\n",
    ")\n",
    "\n",
    "\n",
    "# DEBUG: overlays path over minimap\n",
    "grid_color = np.stack([walkable_grid_small*255]*3, axis=-1).astype(np.uint8)  # grayscale to BGR\n",
    "for r, c in path:\n",
    "    grid_color[r, c] = [0, 0, 255] \n",
    "\n",
    "# cv2.imshow(\"Path\", mask.resize_print(grid_color, shrink_size))\n",
    "# cv2.waitKey(0)"
   ]
  },
  {
   "cell_type": "markdown",
   "id": "606fd424",
   "metadata": {},
   "source": [
    "# Translate Path to Inputs"
   ]
  },
  {
   "cell_type": "markdown",
   "id": "bd3940c1",
   "metadata": {},
   "source": [
    "## Map Delta to Key"
   ]
  },
  {
   "cell_type": "code",
   "execution_count": null,
   "id": "1a966715",
   "metadata": {},
   "outputs": [],
   "source": [
    "def map_delta_to_key(dr, dc):\n",
    "    if dr == -1 and dc == 0:\n",
    "        return 'w'\n",
    "    elif dr == 1 and dc == 0:\n",
    "        return 's' \n",
    "    elif dr == 0 and dc == -1:\n",
    "        return 'a'  \n",
    "    elif dr == 0 and dc == 1:\n",
    "        return 'd'\n",
    "    else:\n",
    "        return None  # no movement\n"
   ]
  },
  {
   "cell_type": "code",
   "execution_count": null,
   "id": "63bb4444",
   "metadata": {},
   "outputs": [
    {
     "name": "stdout",
     "output_type": "stream",
     "text": [
      "['a', 'w', 'w', 'a', 'a']\n"
     ]
    }
   ],
   "source": [
    "\n",
    "# translate coordinate path into keypresses\n",
    "keys = []\n",
    "for i in range(len(path) - 1):\n",
    "    current = path[i]\n",
    "    next = path[i+1]\n",
    "\n",
    "    delta_x = next[0] - current[0]\n",
    "    delta_y = next[1] - current[1]\n",
    "\n",
    "    key = pathfinding.map_delta_to_key(delta_x, delta_y)\n",
    "    keys.append(key)\n",
    "\n",
    "    if key:\n",
    "        pydirectinput.keyDown(key)\n",
    "        time.sleep(0.001)\n",
    "        pydirectinput.keyUp(key)"
   ]
  }
 ],
 "metadata": {
  "kernelspec": {
   "display_name": "venv",
   "language": "python",
   "name": "python3"
  },
  "language_info": {
   "codemirror_mode": {
    "name": "ipython",
    "version": 3
   },
   "file_extension": ".py",
   "mimetype": "text/x-python",
   "name": "python",
   "nbconvert_exporter": "python",
   "pygments_lexer": "ipython3",
   "version": "3.11.4"
  }
 },
 "nbformat": 4,
 "nbformat_minor": 5
}
