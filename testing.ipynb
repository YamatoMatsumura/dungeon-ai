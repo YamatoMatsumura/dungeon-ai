{
 "cells": [
  {
   "cell_type": "markdown",
   "id": "f2c8e7b1",
   "metadata": {},
   "source": [
    "# Setup"
   ]
  },
  {
   "cell_type": "code",
   "execution_count": 38,
   "id": "3603acc0",
   "metadata": {},
   "outputs": [],
   "source": [
    "import mss\n",
    "import numpy as np\n",
    "import cv2\n",
    "import matplotlib.pyplot as plt\n",
    "\n",
    "import time  # to delay screenshot"
   ]
  },
  {
   "cell_type": "markdown",
   "id": "954319fd",
   "metadata": {},
   "source": [
    "# Fetch Screenshot"
   ]
  },
  {
   "cell_type": "code",
   "execution_count": 89,
   "id": "829d5ee1",
   "metadata": {},
   "outputs": [],
   "source": [
    "# Grab screenshot\n",
    "time.sleep(2)\n",
    "with mss.mss() as sct:\n",
    "\n",
    "    # get minimap screenshot\n",
    "    minimap_region = {\"top\": 0, \"left\": 2027, \"width\": 531, \"height\": 545}\n",
    "    minimap_ss = np.array(sct.grab(minimap_region))\n",
    "\n",
    "    # get boss direction screenshot\n",
    "    boss_region = {\"top\": 0, \"left\": 0, \"width\": 2025, \"height\": 1600}\n",
    "    boss_ss = np.array(sct.grab(boss_region))\n",
    "\n",
    "\n",
    "    # # Debug: Getting minimap pixel region\n",
    "    # cv2.imshow(\"minimap\", cv2.cvtColor(boss_ss, cv2.COLOR_BGRA2BGR))\n",
    "    # cv2.waitKey(0)"
   ]
  },
  {
   "cell_type": "markdown",
   "id": "5ab5bd2c",
   "metadata": {},
   "source": [
    "# Color Masks"
   ]
  },
  {
   "cell_type": "markdown",
   "id": "7b7a93d4",
   "metadata": {},
   "source": [
    "## Minimap"
   ]
  },
  {
   "cell_type": "code",
   "execution_count": 90,
   "id": "6043ecdf",
   "metadata": {},
   "outputs": [],
   "source": [
    "hsv_map = cv2.cvtColor(minimap_ss, cv2.COLOR_BGR2HSV)\n",
    "\n",
    "# # Debug: Getting HSV for mask\n",
    "# plt.imshow(hsv_map, cmap='tab20')\n",
    "# plt.show()\n",
    "\n",
    "obstacle_hsvs = {\n",
    "    \"rocks\": np.array([15, 168, 141]),\n",
    "    \"deep_water\": np.array([108, 184, 130]),\n",
    "    \"spawn_trees\": np.array([53, 129, 193]),\n",
    "    \"unexplored\": np.array([0, 0, 0])\n",
    "}\n",
    "\n",
    "combined_obstacles = np.zeros(hsv_map.shape[:2], dtype=np.uint8)\n",
    "\n",
    "obstacle_masks = {}\n",
    "for name, hsv in obstacle_hsvs.items():\n",
    "    mask = cv2.inRange(hsv_map, hsv, hsv)\n",
    "    obstacle_masks[name] = mask\n",
    "    combined_obstacles = cv2.bitwise_or(combined_obstacles, mask)\n",
    "\n",
    "# cv2.imshow(\"Combined Obstacles\", combined_obstacles)\n",
    "# cv2.waitKey(0)\n",
    "\n",
    "walkable_grid = combined_obstacles == 0  # true/1 = walkable, false/0 = obstacle"
   ]
  },
  {
   "cell_type": "markdown",
   "id": "c9137272",
   "metadata": {},
   "source": [
    "## Boss Heading"
   ]
  },
  {
   "cell_type": "code",
   "execution_count": 91,
   "id": "e9812c45",
   "metadata": {},
   "outputs": [
    {
     "name": "stdout",
     "output_type": "stream",
     "text": [
      "[ 0.34058844 -0.94021249]\n"
     ]
    }
   ],
   "source": [
    "hsv_map = cv2.cvtColor(boss_ss, cv2.COLOR_BGR2HSV)\n",
    "height, width = hsv_map.shape[:2]\n",
    "player = [width // 2, height // 2]\n",
    "\n",
    "boss_hsv_lower = np.array([4, 150, 150])\n",
    "boss_hsv_upper = np.array([7, 250, 250])\n",
    "boss_mask = cv2.inRange(hsv_map, boss_hsv_lower, boss_hsv_upper)\n",
    "\n",
    "# cv2.imshow(\"boss mask\", boss_mask)\n",
    "# cv2.waitKey(0)\n",
    "\n",
    "# Get moments for image\n",
    "M = cv2.moments(boss_mask, binaryImage = True)\n",
    "\n",
    "if M[\"m00\"] > 0:\n",
    "    cx = M[\"m10\"] / M[\"m00\"]\n",
    "    cy = M[\"m01\"] / M[\"m00\"]\n",
    "    boss_point = np.array([cx, cy])\n",
    "\n",
    "    heading_vec = boss_point - player\n",
    "    heading_vec = heading_vec / np.linalg.norm(heading_vec)\n",
    "else:\n",
    "    heading_vec = None\n",
    "\n",
    "# flip since need it in y,x (row, col)\n",
    "heading_vec = heading_vec[::-1]\n",
    "print(heading_vec)"
   ]
  },
  {
   "cell_type": "markdown",
   "id": "388079b5",
   "metadata": {},
   "source": [
    "# Shrink down Map"
   ]
  },
  {
   "cell_type": "code",
   "execution_count": 74,
   "id": "0b1ba269",
   "metadata": {},
   "outputs": [],
   "source": [
    "def downsample_mask(mask, block_size=4):\n",
    "    \"\"\"\n",
    "    mask: boolean array of shape (H, W)\n",
    "    block_size: number of pixels per grid cell\n",
    "    \"\"\"\n",
    "\n",
    "    H, W = mask.shape\n",
    "    new_H = H // block_size\n",
    "    new_W = W // block_size\n",
    "\n",
    "    # Initialize smaller grid\n",
    "    grid = np.zeros((new_H, new_W), dtype=bool)\n",
    "\n",
    "    for i in range(new_H):\n",
    "        for j in range(new_W):\n",
    "            block = mask[i*block_size:(i+1)*block_size, j*block_size:(j+1)*block_size]\n",
    "            grid[i, j] = np.all(block)  # True if all pixels are walkable\n",
    "\n",
    "    return grid\n",
    "\n",
    "def resize_print(img, scale):\n",
    "    return cv2.resize(img, (img.shape[1]*scale, img.shape[0]*scale), interpolation=cv2.INTER_NEAREST)"
   ]
  },
  {
   "cell_type": "code",
   "execution_count": 92,
   "id": "92acfab4",
   "metadata": {},
   "outputs": [
    {
     "name": "stdout",
     "output_type": "stream",
     "text": [
      "(109, 106)\n"
     ]
    },
    {
     "data": {
      "text/plain": [
       "-1"
      ]
     },
     "execution_count": 92,
     "metadata": {},
     "output_type": "execute_result"
    }
   ],
   "source": [
    "shrink_size = 5\n",
    "walkable_grid_small = downsample_mask(walkable_grid, shrink_size)\n",
    "print(walkable_grid_small.shape)\n",
    "\n",
    "img = (walkable_grid_small.astype(np.uint8)) * 255\n",
    "cv2.imshow(\"map\", resize_print(img, shrink_size))\n",
    "cv2.waitKey(0)"
   ]
  },
  {
   "cell_type": "markdown",
   "id": "3fb6af85",
   "metadata": {},
   "source": [
    "# Pathfinding"
   ]
  },
  {
   "cell_type": "code",
   "execution_count": 83,
   "id": "c0284434",
   "metadata": {},
   "outputs": [],
   "source": [
    "import heapq\n",
    "\n",
    "def direction_guided_search(grid, start, heading, max_steps=500):\n",
    "    \"\"\"\n",
    "    grid: 2D numpy array, 0 = walkable, 1 = obstacle\n",
    "    start: (row, col)\n",
    "    heading: (dx, dy) preferred direction (doesn’t need to be unit length)\n",
    "    max_steps: cutoff to avoid infinite loops\n",
    "    \"\"\"\n",
    "\n",
    "\n",
    "    rows, cols = grid.shape\n",
    "    visited = set()\n",
    "    came_from = {}\n",
    "\n",
    "    # priority queue entries: (priority, (r, c))\n",
    "    frontier = []\n",
    "    heapq.heappush(frontier, (0, start))\n",
    "\n",
    "    steps = 0\n",
    "    while frontier and steps <= max_steps:\n",
    "        _, (r, c) = heapq.heappop(frontier)\n",
    "        steps += 1\n",
    "\n",
    "        if (r, c) in visited:\n",
    "            continue\n",
    "        visited.add((r, c))\n",
    "\n",
    "        # STOP CONDITION\n",
    "        if steps > 50:\n",
    "            # reconstruct path\n",
    "            path = []\n",
    "            cur = (r, c)\n",
    "            while cur in came_from:\n",
    "                path.append(cur)\n",
    "                cur = came_from[cur]\n",
    "            path.append(start)\n",
    "            path.reverse()\n",
    "            return path\n",
    "\n",
    "        # explore neighbors\n",
    "        for dr, dc in [(-1,0),(1,0),(0,-1),(0,1)]:\n",
    "            nr, nc = r + dr, c + dc\n",
    "            if 0 <= nr < rows and 0 <= nc < cols and grid[nr, nc] == 1:\n",
    "                if (nr, nc) not in visited:\n",
    "                    came_from[(nr, nc)] = (r, c)\n",
    "\n",
    "                    # bias = alignment with heading\n",
    "                    vec = np.array([nr - start[0], nc - start[1]])\n",
    "                    dot = np.dot(vec, heading)  # bigger = better alignment\n",
    "                    dist = np.linalg.norm(vec)\n",
    "                    priority = dist - 0.5 * dot  # weight toward heading\n",
    "                    heapq.heappush(frontier, (priority, (nr, nc)))\n",
    "    \n",
    "    return None  # no path found\n",
    "    "
   ]
  },
  {
   "cell_type": "code",
   "execution_count": 96,
   "id": "fcd582cc",
   "metadata": {},
   "outputs": [
    {
     "name": "stdout",
     "output_type": "stream",
     "text": [
      "[(54, 53), (54, 52), (53, 52), (52, 52), (52, 51), (52, 50)]\n"
     ]
    }
   ],
   "source": [
    "start_row = walkable_grid_small.shape[0] // 2\n",
    "start_col = walkable_grid_small.shape[1] // 2\n",
    "\n",
    "path = direction_guided_search(walkable_grid_small, start=(start_row, start_col), heading=heading_vec)\n",
    "\n",
    "grid_color = np.stack([walkable_grid_small*255]*3, axis=-1).astype(np.uint8)  # grayscale to BGR\n",
    "\n",
    "# Draw the path in red\n",
    "for r, c in path:\n",
    "    grid_color[r, c] = [0, 0, 255]  # BGR: red\n",
    "\n",
    "cv2.imshow(\"Path\", resize_print(grid_color, shrink_size))\n",
    "cv2.waitKey(0)\n",
    "\n",
    "print(path)"
   ]
  },
  {
   "cell_type": "markdown",
   "id": "606fd424",
   "metadata": {},
   "source": [
    "# Translate Path to Inputs"
   ]
  },
  {
   "cell_type": "code",
   "execution_count": 48,
   "id": "1a966715",
   "metadata": {},
   "outputs": [],
   "source": [
    "def map_delta_to_key(dr, dc):\n",
    "    if dr == -1 and dc == 0:\n",
    "        return 'w'\n",
    "    elif dr == 1 and dc == 0:\n",
    "        return 's' \n",
    "    elif dr == 0 and dc == -1:\n",
    "        return 'a'  \n",
    "    elif dr == 0 and dc == 1:\n",
    "        return 'd'\n",
    "    elif dr == -1 and dc == 1:\n",
    "        return ['w', 'd']\n",
    "    elif dr == -1 and dc == -1:\n",
    "        return ['w', 'a']\n",
    "    elif dr == 1 and dc == 1:\n",
    "        return ['s', 'd']\n",
    "    elif dr == 1 and dc == -1:\n",
    "        return ['s', 'a']\n",
    "    else:\n",
    "        return None  # no movement\n"
   ]
  },
  {
   "cell_type": "code",
   "execution_count": 95,
   "id": "63bb4444",
   "metadata": {},
   "outputs": [
    {
     "name": "stdout",
     "output_type": "stream",
     "text": [
      "['a', 'w', 'w', 'a', 'a']\n"
     ]
    }
   ],
   "source": [
    "import pydirectinput\n",
    "\n",
    "\n",
    "time.sleep(2)\n",
    "keys = []\n",
    "for i in range(len(path) - 1):\n",
    "    current = path[i]\n",
    "    next = path[i+1]\n",
    "\n",
    "    delta_x = next[0] - current[0]\n",
    "    delta_y = next[1] - current[1]\n",
    "\n",
    "    key = map_delta_to_key(delta_x, delta_y)\n",
    "    keys.append(key)\n",
    "\n",
    "    if key:\n",
    "        pydirectinput.keyDown(key)\n",
    "        time.sleep(0.001)\n",
    "        pydirectinput.keyUp(key)\n",
    "\n",
    "print(keys)"
   ]
  }
 ],
 "metadata": {
  "kernelspec": {
   "display_name": "venv",
   "language": "python",
   "name": "python3"
  },
  "language_info": {
   "codemirror_mode": {
    "name": "ipython",
    "version": 3
   },
   "file_extension": ".py",
   "mimetype": "text/x-python",
   "name": "python",
   "nbconvert_exporter": "python",
   "pygments_lexer": "ipython3",
   "version": "3.11.4"
  }
 },
 "nbformat": 4,
 "nbformat_minor": 5
}
